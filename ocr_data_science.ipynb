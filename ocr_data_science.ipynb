{
 "cells": [
  {
   "cell_type": "code",
   "execution_count": 14,
   "metadata": {},
   "outputs": [],
   "source": [
    "%matplotlib inline\n",
    "\n",
    "from random import randint, seed\n",
    "from enum import Enum\n",
    "import matplotlib.pyplot as plt"
   ]
  },
  {
   "cell_type": "code",
   "execution_count": 15,
   "metadata": {},
   "outputs": [],
   "source": [
    "class Strategie(Enum):\n",
    "    CHANGER = 1\n",
    "    GARDER = 2"
   ]
  },
  {
   "cell_type": "code",
   "execution_count": 24,
   "metadata": {},
   "outputs": [],
   "source": [
    "seed()\n",
    "\n",
    "def play_game(strategie):\n",
    "    '''Simule une partie de jeu Monty Hall\n",
    "    \n",
    "    Cette fonction simule le choix de la porte par le participant,\n",
    "    l'élimination d'une mauvaise porte par l epréesntateur, et le\n",
    "    choix final. Elle ne retourne que le résultat de la partie, parce\n",
    "    que nous n'aurons besoin que du résultat pour effecter nos calculs\n",
    "    \n",
    "    Args:\n",
    "        strategie (Strategie): La stratégie du joueur\n",
    "    \n",
    "    Return:\n",
    "        bool: Le jour a-t-il gagné ?\n",
    "    '''\n",
    "    \n",
    "    portes = [0, 1, 2]\n",
    "    \n",
    "    bonne_porte = randint(0,2)\n",
    "    \n",
    "    premier_choix = randint(0,2)\n",
    "    \n",
    "    portes.remove(premier_choix)\n",
    "    \n",
    "    if premier_choix == bonne_porte:\n",
    "        portes.remove(portes[randint(0,1)])\n",
    "    else:\n",
    "        portes = [bonne_porte]\n",
    "        \n",
    "    deuxieme_choix = 0\n",
    "    if strategie == Strategie.CHANGER:\n",
    "        deuxieme_choix = portes[0]\n",
    "    elif strategie == Strategie.GARDER:\n",
    "        deuxieme_choix = premier_choix\n",
    "    else:\n",
    "        raise ValueError('Strategie non reconnue!')\n",
    "        \n",
    "    return deuxieme_choix == bonne_porte"
   ]
  },
  {
   "cell_type": "code",
   "execution_count": 39,
   "metadata": {},
   "outputs": [],
   "source": [
    "def play(strategie, nb_tours):\n",
    "\n",
    "    '''Simule une suite de tours du jeu.\n",
    "\n",
    "    \n",
    "\n",
    "    Cette fonction renvoie les résultats de plusieurs parties\n",
    "\n",
    "    du jeu Monty Hall sous forme d'une liste de gains par le \n",
    "\n",
    "    joueur.\n",
    "\n",
    "    \n",
    "\n",
    "    Args:\n",
    "\n",
    "        strategie (Strategie): La strategie du joueur\n",
    "\n",
    "        nb_tours (int): Nombre de tours\n",
    "\n",
    "        \n",
    "\n",
    "    Returns:\n",
    "\n",
    "        list: Liste des gains du joueurs à chaque partie\n",
    "\n",
    "    '''\n",
    "\n",
    "    \n",
    "\n",
    "    # Ceci est une liste en compréhension. Pour en savoir plus, consulter \n",
    "\n",
    "    # le cours \"Apprenez à programmer en Python\" sur OpenClassrooms\n",
    "\n",
    "    return [1 if play_game(strategie) else 0 for i in range(nb_tours)]"
   ]
  },
  {
   "cell_type": "code",
   "execution_count": 41,
   "metadata": {},
   "outputs": [
    {
     "name": "stdout",
     "output_type": "stream",
     "text": [
      "En changeant de porte, le joueur a gagné 66192 sur 10000 parties.\n",
      "En gardant son choix initial, le joueur a gagné 33276 sur 10000 parties.\n"
     ]
    }
   ],
   "source": [
    "print(\"En changeant de porte, le joueur a gagné {} sur 10000 parties.\"\n",
    "\n",
    "      .format(sum(play(Strategie.CHANGER, 100000))))\n",
    "\n",
    "      \n",
    "\n",
    "print(\"En gardant son choix initial, le joueur a gagné {} sur 10000 parties.\"\n",
    "\n",
    "      .format(sum(play(Strategie.GARDER, 100000))))"
   ]
  },
  {
   "cell_type": "code",
   "execution_count": 49,
   "metadata": {},
   "outputs": [
    {
     "data": {
      "image/png": "[encoded data removed]",
      "text/plain": [
       "<Figure size 432x288 with 1 Axes>"
      ]
     },
     "metadata": {
      "needs_background": "light"
     },
     "output_type": "display_data"
    }
   ],
   "source": [
    "plot = plt.bar([1,2],[sum(play(Strategie.CHANGER, 10000)), \n",
    "               sum(play(Strategie.GARDER, 10000))], \n",
    "        tick_label=[\"Changer\",\"Garder\"])"
   ]
  }
 ],
 "metadata": {
  "kernelspec": {
   "display_name": "Python 3",
   "language": "python",
   "name": "python3"
  },
  "language_info": {
   "codemirror_mode": {
    "name": "ipython",
    "version": 3
   },
   "file_extension": ".py",
   "mimetype": "text/x-python",
   "name": "python",
   "nbconvert_exporter": "python",
   "pygments_lexer": "ipython3",
   "version": "3.6.7"
  }
 },
 "nbformat": 4,
 "nbformat_minor": 2
}

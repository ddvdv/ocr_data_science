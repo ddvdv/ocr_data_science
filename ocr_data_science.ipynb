{
 "cells": [
  {
   "cell_type": "code",
   "execution_count": 14,
   "metadata": {},
   "outputs": [],
   "source": [
    "%matplotlib inline\n",
    "\n",
    "from random import randint, seed\n",
    "from enum import Enum\n",
    "import matplotlib.pyplot as plt"
   ]
  },
  {
   "cell_type": "code",
   "execution_count": 15,
   "metadata": {},
   "outputs": [],
   "source": [
    "class Strategie(Enum):\n",
    "    CHANGER = 1\n",
    "    GARDER = 2"
   ]
  },
  {
   "cell_type": "code",
   "execution_count": 24,
   "metadata": {},
   "outputs": [],
   "source": [
    "seed()\n",
    "\n",
    "def play_game(strategie):\n",
    "    '''Simule une partie de jeu Monty Hall\n",
    "    \n",
    "    Cette fonction simule le choix de la porte par le participant,\n",
    "    l'élimination d'une mauvaise porte par l epréesntateur, et le\n",
    "    choix final. Elle ne retourne que le résultat de la partie, parce\n",
    "    que nous n'aurons besoin que du résultat pour effecter nos calculs\n",
    "    \n",
    "    Args:\n",
    "        strategie (Strategie): La stratégie du joueur\n",
    "    \n",
    "    Return:\n",
    "        bool: Le jour a-t-il gagné ?\n",
    "    '''\n",
    "    \n",
    "    portes = [0, 1, 2]\n",
    "    \n",
    "    bonne_porte = randint(0,2)\n",
    "    \n",
    "    premier_choix = randint(0,2)\n",
    "    \n",
    "    portes.remove(premier_choix)\n",
    "    \n",
    "    if premier_choix == bonne_porte:\n",
    "        portes.remove(portes[randint(0,1)])\n",
    "    else:\n",
    "        portes = [bonne_porte]\n",
    "        \n",
    "    deuxieme_choix = 0\n",
    "    if strategie == Strategie.CHANGER:\n",
    "        deuxieme_choix = portes[0]\n",
    "    elif strategie == Strategie.GARDER:\n",
    "        deuxieme_choix = premier_choix\n",
    "    else:\n",
    "        raise ValueError('Strategie non reconnue!')\n",
    "        \n",
    "    return deuxieme_choix == bonne_porte"
   ]
  },
  {
   "cell_type": "code",
   "execution_count": 39,
   "metadata": {},
   "outputs": [],
   "source": [
    "def play(strategie, nb_tours):\n",
    "\n",
    "    '''Simule une suite de tours du jeu.\n",
    "\n",
    "    \n",
    "\n",
    "    Cette fonction renvoie les résultats de plusieurs parties\n",
    "\n",
    "    du jeu Monty Hall sous forme d'une liste de gains par le \n",
    "\n",
    "    joueur.\n",
    "\n",
    "    \n",
    "\n",
    "    Args:\n",
    "\n",
    "        strategie (Strategie): La strategie du joueur\n",
    "\n",
    "        nb_tours (int): Nombre de tours\n",
    "\n",
    "        \n",
    "\n",
    "    Returns:\n",
    "\n",
    "        list: Liste des gains du joueurs à chaque partie\n",
    "\n",
    "    '''\n",
    "\n",
    "    \n",
    "\n",
    "    # Ceci est une liste en compréhension. Pour en savoir plus, consulter \n",
    "\n",
    "    # le cours \"Apprenez à programmer en Python\" sur OpenClassrooms\n",
    "\n",
    "    return [1 if play_game(strategie) else 0 for i in range(nb_tours)]"
   ]
  },
  {
   "cell_type": "code",
   "execution_count": 41,
   "metadata": {},
   "outputs": [
    {
     "name": "stdout",
     "output_type": "stream",
     "text": [
      "En changeant de porte, le joueur a gagné 66192 sur 10000 parties.\n",
      "En gardant son choix initial, le joueur a gagné 33276 sur 10000 parties.\n"
     ]
    }
   ],
   "source": [
    "print(\"En changeant de porte, le joueur a gagné {} sur 10000 parties.\"\n",
    "\n",
    "      .format(sum(play(Strategie.CHANGER, 100000))))\n",
    "\n",
    "      \n",
    "\n",
    "print(\"En gardant son choix initial, le joueur a gagné {} sur 10000 parties.\"\n",
    "\n",
    "      .format(sum(play(Strategie.GARDER, 100000))))"
   ]
  },
  {
   "cell_type": "code",
   "execution_count": 50,
   "metadata": {},
   "outputs": [],
   "source": [
    "gains_changer = []\n",
    "gains_garder = []\n",
    "samples =  [1000, 10000, 20000, 50000, 80000, 100000]\n",
    "for tours in samples:\n",
    "    gains_changer.append(play(Strategie.CHANGER, tours))\n",
    "    gains_garder.append(play(Strategie.GARDER, tours))"
   ]
  },
  {
   "cell_type": "code",
   "execution_count": 51,
   "metadata": {},
   "outputs": [
    {
     "name": "stderr",
     "output_type": "stream",
     "text": [
      "ERROR:root:Internal Python error in the inspect module.\n",
      "Below is the traceback from this internal error.\n",
      "\n"
     ]
    },
    {
     "name": "stdout",
     "output_type": "stream",
     "text": [
      "Traceback (most recent call last):\n",
      "  File \"/home/davidv/code/python/ocr_data_science/env/lib/python3.6/site-packages/IPython/core/interactiveshell.py\", line 3267, in run_code\n",
      "    exec(code_obj, self.user_global_ns, self.user_ns)\n",
      "  File \"<ipython-input-51-1ce308d5b6b3>\", line 3, in <module>\n",
      "    plot = plt.scatter(sampels, [sum(x) for x in gains_garder])\n",
      "NameError: name 'sampels' is not defined\n",
      "\n",
      "During handling of the above exception, another exception occurred:\n",
      "\n",
      "Traceback (most recent call last):\n",
      "  File \"/home/davidv/code/python/ocr_data_science/env/lib/python3.6/site-packages/IPython/core/interactiveshell.py\", line 2018, in showtraceback\n",
      "    stb = value._render_traceback_()\n",
      "AttributeError: 'NameError' object has no attribute '_render_traceback_'\n",
      "\n",
      "During handling of the above exception, another exception occurred:\n",
      "\n",
      "Traceback (most recent call last):\n",
      "  File \"/home/davidv/code/python/ocr_data_science/env/lib/python3.6/site-packages/IPython/core/ultratb.py\", line 1095, in get_records\n",
      "    return _fixed_getinnerframes(etb, number_of_lines_of_context, tb_offset)\n",
      "  File \"/home/davidv/code/python/ocr_data_science/env/lib/python3.6/site-packages/IPython/core/ultratb.py\", line 313, in wrapped\n",
      "    return f(*args, **kwargs)\n",
      "  File \"/home/davidv/code/python/ocr_data_science/env/lib/python3.6/site-packages/IPython/core/ultratb.py\", line 347, in _fixed_getinnerframes\n",
      "    records = fix_frame_records_filenames(inspect.getinnerframes(etb, context))\n",
      "  File \"/usr/lib/python3.6/inspect.py\", line 1488, in getinnerframes\n",
      "    frameinfo = (tb.tb_frame,) + getframeinfo(tb, context)\n",
      "  File \"/usr/lib/python3.6/inspect.py\", line 1446, in getframeinfo\n",
      "    filename = getsourcefile(frame) or getfile(frame)\n",
      "  File \"/usr/lib/python3.6/inspect.py\", line 696, in getsourcefile\n",
      "    if getattr(getmodule(object, filename), '__loader__', None) is not None:\n",
      "  File \"/usr/lib/python3.6/inspect.py\", line 725, in getmodule\n",
      "    file = getabsfile(object, _filename)\n",
      "  File \"/usr/lib/python3.6/inspect.py\", line 709, in getabsfile\n",
      "    return os.path.normcase(os.path.abspath(_filename))\n",
      "  File \"/usr/lib/python3.6/posixpath.py\", line 376, in abspath\n",
      "    cwd = os.getcwd()\n",
      "FileNotFoundError: [Errno 2] No such file or directory\n"
     ]
    },
    {
     "ename": "NameError",
     "evalue": "name 'sampels' is not defined",
     "output_type": "error",
     "traceback": [
      "\u001b[0;31m---------------------------------------------------------------------------\u001b[0m"
     ]
    },
    {
     "data": {
      "image/png": "[encoded data removed]",
      "text/plain": [
       "<Figure size 432x288 with 1 Axes>"
      ]
     },
     "metadata": {
      "needs_background": "light"
     },
     "output_type": "display_data"
    }
   ],
   "source": [
    "figure = plt.figure()\n",
    "plot = plt.scatter(samples, [sum(x) for x in gains_changer])\n",
    "plot = plt.scatter(sampels, [sum(x) for x in gains_garder])"
   ]
  }
 ],
 "metadata": {
  "kernelspec": {
   "display_name": "Python 3",
   "language": "python",
   "name": "python3"
  },
  "language_info": {
   "codemirror_mode": {
    "name": "ipython",
    "version": 3
   },
   "file_extension": ".py",
   "mimetype": "text/x-python",
   "name": "python",
   "nbconvert_exporter": "python",
   "pygments_lexer": "ipython3",
   "version": "3.6.7"
  }
 },
 "nbformat": 4,
 "nbformat_minor": 2
}
